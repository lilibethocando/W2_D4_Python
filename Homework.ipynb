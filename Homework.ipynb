{
 "cells": [
  {
   "cell_type": "markdown",
   "id": "d3c3f097",
   "metadata": {},
   "source": [
    "# Exercises¶"
   ]
  },
  {
   "cell_type": "markdown",
   "id": "94c26342",
   "metadata": {},
   "source": [
    "\n",
    "## 1) Address Book\n",
    "Develop a user-friendly program that acts as an address book. The program should have the following functionalities:\n",
    "\n",
    "Upon starting the program, create an empty dictionary to store names and addresses.\n",
    "\n",
    "Allow the user to add people to the address book. For each entry, prompt the user to input a name and its corresponding address. Store these as key-value pairs in the dictionary.\n",
    "\n",
    "Provide a clear and straightforward menu for the user, including options to add a new entry or quit the program.\n",
    "\n",
    "Implement a loop that allows users to continue adding entries until they explicitly choose to quit.\n",
    "\n",
    "When the user decides to quit, break out of the loop and display the collected information. Print out the names and addresses of everyone in the address book in a well-formatted manner.\n",
    "\n",
    "Consider adding error handling to handle unexpected inputs gracefully. For instance, if the user provides invalid input when prompted for a name or address, handle the error and ask for the information again.\n",
    "\n",
    "Provide a user-friendly and informative message when the program terminates, summarizing the data entered and thanking the user for using the address book."
   ]
  },
  {
   "cell_type": "code",
   "execution_count": 59,
   "id": "b2709326",
   "metadata": {},
   "outputs": [
    {
     "name": "stdout",
     "output_type": "stream",
     "text": [
      "--------------------------------------------------\n",
      "Welcome to the Digital Address Book!\n",
      "--------------------------------------------------\n",
      "Type one of the following options: Add, Remove, Show or Quit:\n",
      "add\n",
      "Type the name:\n",
      "lili\n",
      "Type address:\n",
      "123 short drive\n",
      "User added successfully!\n",
      "Type one of the following options: Add, Remove, Show or Quit:\n",
      "show\n",
      "Address Book:\n",
      "==================================================\n",
      "Name: lili, Address: 123 short drive\n",
      "==================================================\n",
      "Type one of the following options: Add, Remove, Show or Quit:\n",
      "quit\n",
      "--------------------------------------------------\n",
      "Thank you for using our address book\n",
      "Address Book:\n",
      "==================================================\n",
      "Name: lili, Address: 123 short drive\n",
      "==================================================\n"
     ]
    }
   ],
   "source": [
    "print(\"-\" * 50)\n",
    "print(\"Welcome to the Digital Address Book!\")\n",
    "print(\"-\" * 50)\n",
    "\n",
    "address_book = {}\n",
    "\n",
    "def menu():\n",
    "    choice = input(\"Type one of the following options: Add, Remove, Show or Quit:\\n\").lower()\n",
    "    return choice\n",
    "\n",
    "def get_name():\n",
    "    name = input(\"Type the name:\\n\").lower()\n",
    "    return name\n",
    "\n",
    "def get_address():\n",
    "    address = input(\"Type address:\\n\").lower()\n",
    "    return address\n",
    "\n",
    "def add_user():\n",
    "    name = get_name()\n",
    "    address = get_address()\n",
    "    if name in address_book:\n",
    "        print(\"This person is already in the address book\")\n",
    "        return None\n",
    "    else:\n",
    "        address_book[name] = address\n",
    "        print(\"User added successfully!\")\n",
    "        return {'name': name, 'address': address}\n",
    "\n",
    "def remove_user():\n",
    "    name = get_name()\n",
    "    if name in address_book:\n",
    "        del address_book[name]\n",
    "        print(f\"{name} has been removed from the address book.\")\n",
    "    else:\n",
    "        print(f\"{name} is not found in the address book.\")\n",
    "    \n",
    "\n",
    "def show_book(address_book):\n",
    "    print(\"Address Book:\")\n",
    "    for name, address in address_book.items():\n",
    "        print(\"=\"*50)\n",
    "        print(f\"Name: {name}, Address: {address}\")\n",
    "        print(\"=\"*50)\n",
    "\n",
    "def main():\n",
    "    bool_val = True\n",
    "    while bool_val:\n",
    "        choice = menu()\n",
    "        if choice == 'add':\n",
    "            user = add_user()\n",
    "            if user:\n",
    "                address_book[user['name']] = user['address']\n",
    "        elif choice == 'remove':\n",
    "            remove_user()\n",
    "        elif choice == 'show':\n",
    "            show_book(address_book)\n",
    "        elif choice == 'quit':\n",
    "            bool_val = False\n",
    "            print(\"-\" * 50)\n",
    "            print(\"Thank you for using our address book\")\n",
    "            show_book(address_book)\n",
    "        else:\n",
    "            print(\"Invalid choice. Please type 'add', 'remove', 'show', or 'quit'.\")\n",
    "            \n",
    "            \n",
    "\n",
    "if __name__ == \"__main__\":\n",
    "    main()\n"
   ]
  },
  {
   "cell_type": "markdown",
   "id": "2212f5e4",
   "metadata": {},
   "source": [
    "## 2) Best Time to Meet\n",
    "Billy is trying to figure out if there is a time that he and his team can meet to work on the project. His three teammates each give him a set of times they are available ('HH:MM' 24-hour). Create a function that will take in any number of sets of available times (remember *args) and return a set of times where everyone can meet."
   ]
  },
  {
   "cell_type": "code",
   "execution_count": 107,
   "id": "923e564f",
   "metadata": {},
   "outputs": [],
   "source": [
    "person1 = {'09:00', '10:30', '11:30', '12:00', '13:00', '14:30'}\n",
    "person2 = {'09:30', '10:00', '10:30', '12:00', '14:30', '16:00'}\n",
    "person3 = {'09:00', '09:30', '11:00', '11:30', '12:00', '13:30', '14:30', '15:00'}\n",
    "person4 = {'11:00', '11:30', '12:00', '14:00', '14:30', '16:30', '17:00'}\n",
    "# Available Times: '12:00' and '14:30'"
   ]
  },
  {
   "cell_type": "code",
   "execution_count": 138,
   "id": "d3479bf7",
   "metadata": {},
   "outputs": [],
   "source": [
    "def perfect_time(*args):\n",
    "    result = set.intersection(*args)    \n",
    "    return result"
   ]
  },
  {
   "cell_type": "code",
   "execution_count": 139,
   "id": "7d081041",
   "metadata": {},
   "outputs": [
    {
     "name": "stdout",
     "output_type": "stream",
     "text": [
      "{'14:30', '12:00'}\n"
     ]
    }
   ],
   "source": [
    "print(perfect_time(person1,person2,person3,person4))"
   ]
  },
  {
   "cell_type": "code",
   "execution_count": null,
   "id": "c1e787fe",
   "metadata": {},
   "outputs": [],
   "source": []
  }
 ],
 "metadata": {
  "kernelspec": {
   "display_name": "Python 3 (ipykernel)",
   "language": "python",
   "name": "python3"
  },
  "language_info": {
   "codemirror_mode": {
    "name": "ipython",
    "version": 3
   },
   "file_extension": ".py",
   "mimetype": "text/x-python",
   "name": "python",
   "nbconvert_exporter": "python",
   "pygments_lexer": "ipython3",
   "version": "3.11.5"
  }
 },
 "nbformat": 4,
 "nbformat_minor": 5
}
